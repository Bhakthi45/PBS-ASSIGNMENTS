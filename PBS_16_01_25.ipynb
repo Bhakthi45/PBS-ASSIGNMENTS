{
  "nbformat": 4,
  "nbformat_minor": 0,
  "metadata": {
    "colab": {
      "provenance": [],
      "authorship_tag": "ABX9TyNDfuL6ZyGyw3uudhmvQDup",
      "include_colab_link": true
    },
    "kernelspec": {
      "name": "python3",
      "display_name": "Python 3"
    },
    "language_info": {
      "name": "python"
    }
  },
  "cells": [
    {
      "cell_type": "markdown",
      "metadata": {
        "id": "view-in-github",
        "colab_type": "text"
      },
      "source": [
        "<a href=\"https://colab.research.google.com/github/Bhakthi45/PBS-ASSIGNMENTS/blob/main/PBS_16_01_25.ipynb\" target=\"_parent\"><img src=\"https://colab.research.google.com/assets/colab-badge.svg\" alt=\"Open In Colab\"/></a>"
      ]
    },
    {
      "cell_type": "code",
      "execution_count": null,
      "metadata": {
        "colab": {
          "base_uri": "https://localhost:8080/"
        },
        "id": "_Bep8I7uSNN8",
        "outputId": "d2633d80-59d4-4b82-f074-6182c0b44154"
      },
      "outputs": [
        {
          "output_type": "stream",
          "name": "stdout",
          "text": [
            "the mean age is:13.4643\n"
          ]
        }
      ],
      "source": [
        "ages = [10,12,15,11,13,21]\n",
        "frequencies = [1,4,7,9,4,3]\n",
        "total_frequency = sum(frequencies)\n",
        "weighted_sum = sum(age * frequency for age,frequency in zip(ages,frequencies))\n",
        "mean = weighted_sum / total_frequency\n",
        "print(f\"the mean age is:{mean:.4f}\")"
      ]
    },
    {
      "cell_type": "code",
      "source": [
        "class_intervals = [(0,10),(10,20),(20,30),(30,40),(40,50),(50,60)]\n",
        "frequencies = [1,8,7,8,7,6]\n",
        "mid_point = [interval[0] + ((interval[1]-interval[0])/2) for interval in class_intervals]\n",
        "weighted_sum = sum(mid_point[i]*frequencies[i] for i in range(len(mid_point)))\n",
        "total_frequency = sum(frequencies)\n",
        "mean = weighted_sum/total_frequency\n",
        "print(f\"the mean age is:{mean:.4f}\")\n"
      ],
      "metadata": {
        "colab": {
          "base_uri": "https://localhost:8080/"
        },
        "id": "HVz_KUT_afNO",
        "outputId": "8d26544f-e548-4b68-c457-1ddb9c73e0e2"
      },
      "execution_count": null,
      "outputs": [
        {
          "output_type": "stream",
          "name": "stdout",
          "text": [
            "the mean age is:33.1081\n"
          ]
        }
      ]
    },
    {
      "cell_type": "code",
      "source": [
        "def calculate_variance(data):\n",
        "  mean=sum(data)/len(data)\n",
        "  squared_difference=[(x-mean)**2 for x in data]\n",
        "  variance=sum(squared_difference)/len(data)\n",
        "  return variance\n",
        "data=[13,22,25,25,14,23,31,16]\n",
        "variance=calculate_variance(data)\n",
        "print(\"variance of dataset:\",variance)"
      ],
      "metadata": {
        "colab": {
          "base_uri": "https://localhost:8080/"
        },
        "id": "MAHqG2WzgWPt",
        "outputId": "5f479de3-a8ea-4977-996c-e617d9d9c8a5"
      },
      "execution_count": null,
      "outputs": [
        {
          "output_type": "stream",
          "name": "stdout",
          "text": [
            "variance of dataset: 34.359375\n"
          ]
        }
      ]
    }
  ]
}